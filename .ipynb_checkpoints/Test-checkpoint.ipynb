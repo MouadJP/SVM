{
 "cells": [
  {
   "cell_type": "code",
   "execution_count": 1,
   "id": "b9c5cddf",
   "metadata": {},
   "outputs": [],
   "source": [
    "import pandas as pd\n",
    "import numpy as np\n",
    "\n",
    "#labeling\n",
    "file_path = 'german1.ldt'\n",
    "column_names = [f'x{i}' for i in range(1, 21)] + ['class']\n",
    "\n",
    "# Read into a DataFrame \n",
    "cord = pd.read_csv(file_path,sep = '\\t', skiprows=1,names=column_names)\n",
    "\n",
    "#class seperation Note: Dataframe operations\n",
    "co_class1 = cord[cord['class'] == 0].iloc[:, :-1].values\n",
    "co_class2 = cord[cord['class'] == 1].iloc[:, :-1].values\n",
    "\n",
    "\n",
    "\n"
   ]
  },
  {
   "cell_type": "code",
   "execution_count": 18,
   "id": "dcc8f392",
   "metadata": {},
   "outputs": [],
   "source": [
    "#matrice function\n",
    "def A(a):    \n",
    "    result = np.zeros((a.shape[1], a.shape[1]))\n",
    "    for i in range(a.shape[0]):\n",
    "        row = a[i:i+1, :]\n",
    "        result += np.outer(row, row)/a.shape[0]\n",
    "    return result\n",
    "\n",
    "#finding subspace \n",
    "def Transfor(a,b,fac):\n",
    "    sorted_indices = np.argsort(a)[::-1]  # Sort in descending order\n",
    "    v_sum = np.sum(a) \n",
    "    ver_sum = 0\n",
    "    class_indices = [] \n",
    "    # Finding r the index according to the equation\n",
    "    for i in sorted_indices:\n",
    "        class_indices.append(i)\n",
    "        ver_sum += a[i]\n",
    "        if (ver_sum/v_sum == fac):\n",
    "            break\n",
    "        elif (ver_sum/v_sum > fac):\n",
    "            break\n",
    "    #Returning the result vectors for the class \n",
    "    result_values,result_vectors = a[class_indices],b[class_indices]             \n",
    "    return result_values,result_vectors\n",
    "\n",
    "# Eigendecomposition calculation\n",
    "eig_v1,eig_vec1 = np.linalg.eig(A(co_class1))\n",
    "eig_v2,eig_vec2 = np.linalg.eig(A(co_class2))\n",
    "eig_v1 = np.maximum(eig_v1,0)\n",
    "eig_v2 = np.maximum(eig_v2,0)\n",
    "\n",
    "#class subspace and values\n",
    "Isubspace_values_class1,Isubspace_vectors_class1= Transfor(eig_v1,eig_vec1,0.8)\n",
    "Isubspace_values_class2,Isubspace_vectors_class2= Transfor(eig_v2,eig_vec2,0.8)\n",
    "IIsubspace_values_class1,IIsubspace_vectors_class1= Transfor(eig_v1,eig_vec1,0.95)\n",
    "IIsubspace_values_class2,IIsubspace_vectors_class2= Transfor(eig_v2,eig_vec2,0.95)\n"
   ]
  },
  {
   "cell_type": "code",
   "execution_count": 19,
   "id": "b73c8fa4",
   "metadata": {},
   "outputs": [],
   "source": [
    "file_path = 'german1.tst'\n",
    "\n",
    "# Read into a DataFrame \n",
    "cord = pd.read_csv(file_path,sep = '\\t', skiprows=1,names=column_names)\n",
    "\n",
    "#UNLABELED DATA \n",
    "raw = cord.iloc[:, :-1].values\n"
   ]
  },
  {
   "cell_type": "code",
   "execution_count": 20,
   "id": "de588873",
   "metadata": {},
   "outputs": [],
   "source": [
    "# calculating the length thingy \n",
    "def classer(a,b1,b2): \n",
    "    classed_data = []\n",
    "    #Calculating shadow length\n",
    "    for i in a:\n",
    "        total_dist1 = 0\n",
    "        total_dist2 = 0\n",
    "        for j in b1: \n",
    "            j = np.transpose(j)\n",
    "            s = i-j\n",
    "            distance = np.sqrt(np.sum(np.dot(s,s)))\n",
    "            total_dist1 += distance\n",
    "        for j in b2: \n",
    "            j = np.transpose(j)\n",
    "            s = i-j\n",
    "            distance = np.sqrt(np.sum(np.dot(s,s)))\n",
    "            total_dist2 += distance  \n",
    "        length1 = np.sqrt(total_dist1)\n",
    "        length2 = np.sqrt(total_dist2)\n",
    "        #separating based on the longer shadow \n",
    "        if length1>length2 :\n",
    "            i = np.append(i,0)\n",
    "        else:\n",
    "            i = np.append(i,1)\n",
    "        classed_data.append(i)\n",
    "    classed_data = np.vstack(classed_data)\n",
    "    result = pd.DataFrame(classed_data, columns = column_names)\n",
    "    return result\n",
    "\n",
    "#Outputing Classified data \n",
    "result1 = classer(raw,Isubspace_vectors_class1,Isubspace_vectors_class2)\n",
    "result2 = classer(raw,IIsubspace_vectors_class1,IIsubspace_vectors_class2)"
   ]
  },
  {
   "cell_type": "code",
   "execution_count": 21,
   "id": "2beb9be4",
   "metadata": {},
   "outputs": [],
   "source": [
    "#comparing with original data and outputing the accuracy ratio \n",
    "def Accuracy (a,b):\n",
    "    diff = a.compare(b)\n",
    "    return 1- (diff.values.shape[0]/b.values.shape[0])"
   ]
  },
  {
   "cell_type": "code",
   "execution_count": 22,
   "id": "e2411eb0",
   "metadata": {},
   "outputs": [
    {
     "name": "stdout",
     "output_type": "stream",
     "text": [
      "in case of 0.8\n",
      "Accuracy of : 0.7233333333333334\n",
      "in case of 0.95\n",
      "Accuracy of : 0.3866666666666667\n"
     ]
    }
   ],
   "source": [
    "print('in case of 0.8')\n",
    "print('Accuracy of : ' + str(Accuracy(result1,cord)))\n",
    "print('in case of 0.95')\n",
    "print('Accuracy of : '+ str(Accuracy(result2,cord)))"
   ]
  },
  {
   "cell_type": "code",
   "execution_count": 16,
   "id": "f44afba5",
   "metadata": {},
   "outputs": [
    {
     "name": "stdout",
     "output_type": "stream",
     "text": [
      "0.7233333333333334\n",
      "7\n"
     ]
    }
   ],
   "source": [
    "#finding most optimal b value in magnitude of E-3 \n",
    "val = 0\n",
    "res = []\n",
    "for i in range (100):\n",
    "    val+=0.01\n",
    "    IIsubspace_values_class1,IIsubspace_vectors_class1= Transfor(eig_v1,eig_vec1,val)\n",
    "    IIsubspace_values_class2,IIsubspace_vectors_class2= Transfor(eig_v2,eig_vec2,val)\n",
    "    result = classer(raw,IIsubspace_vectors_class1,IIsubspace_vectors_class2)\n",
    "    res.append(Accuracy(result,cord))\n",
    "max_val = max(res)\n",
    "indice = res.index(max_val)\n",
    "print(max_val)\n",
    "print((indice+1))"
   ]
  },
  {
   "cell_type": "code",
   "execution_count": 17,
   "id": "ab638279",
   "metadata": {},
   "outputs": [
    {
     "name": "stdout",
     "output_type": "stream",
     "text": [
      "[0.2766666666666666, 0.2766666666666666, 0.2766666666666666, 0.2766666666666666, 0.2766666666666666, 0.2766666666666666, 0.7233333333333334, 0.5233333333333333, 0.5233333333333333, 0.5233333333333333, 0.5233333333333333, 0.5233333333333333, 0.5233333333333333, 0.5233333333333333, 0.5233333333333333, 0.5233333333333333, 0.5233333333333333, 0.7233333333333334, 0.7233333333333334, 0.7233333333333334, 0.7233333333333334, 0.44333333333333336, 0.44333333333333336, 0.44333333333333336, 0.44333333333333336, 0.44333333333333336, 0.7233333333333334, 0.7233333333333334, 0.7233333333333334, 0.7233333333333334, 0.45999999999999996, 0.45999999999999996, 0.45999999999999996, 0.45999999999999996, 0.7233333333333334, 0.7233333333333334, 0.7233333333333334, 0.7233333333333334, 0.4933333333333333, 0.4933333333333333, 0.7233333333333334, 0.7233333333333334, 0.7233333333333334, 0.7233333333333334, 0.7233333333333334, 0.45333333333333337, 0.45333333333333337, 0.7233333333333334, 0.7233333333333334, 0.7233333333333334, 0.7233333333333334, 0.45999999999999996, 0.45999999999999996, 0.7233333333333334, 0.7233333333333334, 0.7233333333333334, 0.7233333333333334, 0.43999999999999995, 0.7233333333333334, 0.7233333333333334, 0.7233333333333334, 0.7233333333333334, 0.43999999999999995, 0.7233333333333334, 0.7233333333333334, 0.7233333333333334, 0.4033333333333333, 0.4033333333333333, 0.7233333333333334, 0.7233333333333334, 0.7233333333333334, 0.3866666666666667, 0.3866666666666667, 0.7233333333333334, 0.4033333333333333, 0.4033333333333333, 0.4033333333333333, 0.7233333333333334, 0.3966666666666666, 0.3966666666666666, 0.3966666666666666, 0.4033333333333333, 0.4033333333333333, 0.4033333333333333, 0.3966666666666666, 0.3966666666666666, 0.3966666666666666, 0.2766666666666666, 0.3966666666666666, 0.3966666666666666, 0.2766666666666666, 0.3833333333333333, 0.3833333333333333, 0.4033333333333333, 0.4033333333333333, 0.27, 0.3866666666666667, 0.27, 0.3633333333333333, 0.3533333333333334]\n"
     ]
    }
   ],
   "source": [
    "print(res)"
   ]
  },
  {
   "cell_type": "code",
   "execution_count": null,
   "id": "ea76a434",
   "metadata": {},
   "outputs": [],
   "source": []
  }
 ],
 "metadata": {
  "kernelspec": {
   "display_name": "Python 3 (ipykernel)",
   "language": "python",
   "name": "python3"
  },
  "language_info": {
   "codemirror_mode": {
    "name": "ipython",
    "version": 3
   },
   "file_extension": ".py",
   "mimetype": "text/x-python",
   "name": "python",
   "nbconvert_exporter": "python",
   "pygments_lexer": "ipython3",
   "version": "3.9.7"
  }
 },
 "nbformat": 4,
 "nbformat_minor": 5
}
